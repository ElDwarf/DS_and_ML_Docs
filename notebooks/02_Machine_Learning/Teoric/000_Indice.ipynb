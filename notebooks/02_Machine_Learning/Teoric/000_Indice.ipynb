{
 "cells": [
  {
   "cell_type": "markdown",
   "metadata": {},
   "source": [
    "# Indice de contenido\n",
    "\n",
    "00. [Introduccion tensorflow](00_Terminologia_ML.ipynb)\n",
    "01. [Estudio detallado del ML: Regresión lineal](01_Estudio_detallado_ML_Regresión_lineal.ipynb)\n",
    "02. [Estudio detallado del ML: Entrenamiento perdida](02_Estudio_detallado_ML_Entrenamiento_perdida.ipynb)\n",
    "03. [Reducción pérdida: Un enfoque iterativo](03_Reduccion_perdida_Un_enfoque_iterativo.ipynb)\n",
    "04. [Derivadas parciales y las gradientes](04_A_Derivadas_parciales_y_las_gradientes.ipynb)\n",
    "04. [Reducción pérdida: Descenso gradientes](04_Reducción_pérdida_Descenso_gradientes.ipynb)\n",
    "05. [Reduccion pérdida: Tasa aprendizaje](05_Reduccion_perdida_Tasa_aprendizaje.ipynb)\n",
    "06. [Reducción perdida: Descenso gradiente estocastico](06_Reducción_perdida_Descenso_gradiente_estocastico.ipynb)\n",
    "07. [Generalizacion: Riesgos sobreajuste](07_Generalizacion_Riesgos_sobreajuste.ipynb)\n",
    "08. [Conjuntos entrenamiento prueba: Separacion datos](08_Conjuntos_entrenamiento_prueba_Separacion_datos.ipynb)\n",
    "09. [Validacion: Otra particion](09_Validacion_Otra_particion.ipynb)\n",
    "10. [Representación: Ingenieria atributos](10_Representación_Ingenieria_atributos.ipynb)\n",
    "11. [Representación: Cualidades buenos atributos](11_Representacion_Cualidades_buenos_atributos.ipynb)\n",
    "12. [Representación: Limpieza datos](12_Representacion_Limpieza_datos.ipynb)\n",
    "13. [Combinaciones atributos: Codificacion linealidad](13_Combinaciones_atributos_Codificacion_linealidad.ipynb)\n",
    "14. [Combinaciones atributos: Vectores un solo 1 combinados](14_Combinaciones_atributos_Vectores_un_solo_1_combinados.ipynb)\n",
    "15. [Regularizacion para lograr simplicidad: RegularizacionL2](15_Regularizacion_para_lograr_simplicidad_RegularizacionL2.ipynb)\n",
    "16. [Regularizacion para lograr simplicidad: Lambda](16_Regularizacion_para_lograr_simplicidad_Lambda.ipynb)\n",
    "17. [Regresion logistica: Calculo probabilidades](17_Regresion_logistica_Calculo_probabilidades.ipynb)\n",
    "18. [Regresion logistica: Entrenamiento modelos](18_Regresion_logistica_Entrenamiento_modelos.ipynb)\n",
    "19. [Clasificacion: Umbral](19_Clasificacion_Umbral.ipynb)\n",
    "20. [Clasificacion: Verdadero falso positivo negativo](20_Clasificacion_Verdadero_falso_positivo_negativo.ipynb)\n",
    "21. [Clasificacion Exactitud](21_Clasificacion_Exactitud.ipynb)\n",
    "22. [Clasificacion: Precision exhaustividad](22_Clasificacion_Precision_exhaustividad.ipynb)\n",
    "\n"
   ]
  },
  {
   "cell_type": "code",
   "execution_count": null,
   "metadata": {},
   "outputs": [],
   "source": []
  }
 ],
 "metadata": {
  "kernelspec": {
   "display_name": "Python 3",
   "language": "python",
   "name": "python3"
  },
  "language_info": {
   "codemirror_mode": {
    "name": "ipython",
    "version": 3
   },
   "file_extension": ".py",
   "mimetype": "text/x-python",
   "name": "python",
   "nbconvert_exporter": "python",
   "pygments_lexer": "ipython3",
   "version": "3.5.2"
  }
 },
 "nbformat": 4,
 "nbformat_minor": 2
}
