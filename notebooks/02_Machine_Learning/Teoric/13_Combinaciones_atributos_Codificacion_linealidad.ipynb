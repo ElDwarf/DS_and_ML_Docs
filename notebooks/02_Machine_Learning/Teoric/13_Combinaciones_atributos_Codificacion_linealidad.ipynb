{
 "cells": [
  {
   "cell_type": "markdown",
   "metadata": {},
   "source": [
    "En las Figuras 1 y 2, imagina lo siguiente:\n",
    "\n",
    "* Los puntos azules representan árboles enfermos.\n",
    "* Los puntos anaranjados representan árboles sanos.\n",
    "\n",
    "![graph](img/LinearProblem1.png \"graph\")\n",
    "\n",
    "**Figura 1. ¿Este es un problema lineal?**\n",
    "\n",
    "¿Puedes trazar una línea que separe eficientemente los árboles enfermos de los sanos? Por supuesto. Este es un problema lineal. La línea no será perfecta. Es posible que uno o dos árboles enfermos se encuentren del lado \"sano\", pero la línea será un buen predictor.\n",
    "\n",
    "Ahora observa la siguiente figura:\n",
    "\n",
    "![graph1](img/LinearProblem2.png \"graph1\")\n",
    "\n",
    "**Figura 2. ¿Este es un problema lineal?**\n",
    "\n",
    "¿Puedes trazar una sola línea recta que separe los árboles enfermos de los árboles sanos? No, no puedes. Este es un problema no lineal. Cualquier línea que dibujes será un predictor deficiente del estado de los árboles.\n",
    "\n",
    "![graph2](img/LinearProblemNot.png \"graph2\")\n",
    "\n",
    "**Figura 3. Una sola línea no puede separar las dos clases.**\n",
    "\n",
    "Para resolver el problema no lineal que se muestra en la Figura 2, crea una **combinación de atributos**. Una combinación de atributos es un atributo sintético que codifica la no linealidad en el espacio de los atributos al multiplicar dos o más atributos de entrada en conjunto. (El término combinación proviene de combinación lineal). Creemos una combinación de atributos denominada $x_3$ al combinar $x_1$ y $x_2$:\n",
    "\n",
    "\\begin{equation*}\n",
    "x_3 = x_1x_2\n",
    "\\end{equation*}\n",
    "\n",
    "Esta combinación de atributos $x_3$ generada recientemente se tratará como cualquier otro atributo. La fórmula lineal pasa a ser la siguiente:\n",
    "\n",
    "\\begin{equation*}\n",
    "y = b + w_1x_1 + w_2x_2 + w_3x_3\n",
    "\\end{equation*}\n",
    "\n",
    "Un algoritmo lineal puede aprender una ponderación para $w_3$ como lo haría para $w_1$ y $w_2$. En otras palabras, aunque $w_3$ codifique información no lineal, no necesitas cambiar la manera en la que el modelo lineal se entrena para determinar el valor de $w_3$.\n",
    "\n",
    "#### Tipos de combinaciones de atributos\n",
    "\n",
    "Es posible crear muchos tipos de combinaciones de atributos diferentes. Por ejemplo:\n",
    "\n",
    "* [A X B]: Una combinación de atributos formada al multiplicar los valores de dos atributos.\n",
    "* [A x B x C x D x E]: Una combinación de atributos formada al multiplicar los valores de cinco atributos.\n",
    "* [A x A]: Una combinación de atributos formada al elevar al cuadrado un solo atributo.\n",
    "\n",
    "Gracias al descenso de gradiente estocástico, los modelos lineales se pueden entrenar de manera eficaz. En consecuencia, la complementación de los modelos lineales ajustados con combinaciones de atributos tradicionalmente ha sido una forma eficaz de entrenar conjuntos de datos de escala masiva."
   ]
  }
 ],
 "metadata": {
  "kernelspec": {
   "display_name": "Python 3",
   "language": "python",
   "name": "python3"
  },
  "language_info": {
   "codemirror_mode": {
    "name": "ipython",
    "version": 3
   },
   "file_extension": ".py",
   "mimetype": "text/x-python",
   "name": "python",
   "nbconvert_exporter": "python",
   "pygments_lexer": "ipython3",
   "version": "3.5.2"
  }
 },
 "nbformat": 4,
 "nbformat_minor": 2
}
