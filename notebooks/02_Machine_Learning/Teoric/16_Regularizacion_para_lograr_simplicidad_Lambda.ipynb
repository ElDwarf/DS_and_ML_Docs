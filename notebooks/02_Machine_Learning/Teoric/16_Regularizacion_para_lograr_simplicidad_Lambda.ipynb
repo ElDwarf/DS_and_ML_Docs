{
 "cells": [
  {
   "cell_type": "markdown",
   "metadata": {},
   "source": [
    "Para definir el impacto general del término de regularización, los programadores de modelos multiplican su valor por un escalar conocido como **lambda** (también denominado **tasa de regularización**). Es decir, el objetivo de los programadores de modelos es lograr lo siguiente:\n",
    "\n",
    "$$\\begin{eqnarray}\n",
    "minimize(Loss(Data|Model) + \\lambda complexity(Model))\n",
    "\\end{eqnarray}$$\n",
    "\n",
    "La regularización $L_2$ tiene el siguiente efecto en un modelo\n",
    "\n",
    "* Lleva los valores de las ponderaciones hacia 0 (pero no exactamente 0).\n",
    "* Lleva la media de las ponderaciones hacia 0, con una distribución normal (en forma de campana o gaussiana).\n",
    "\n",
    "Aumentar el valor de lambda fortalece el efecto de la regularización. Por ejemplo, el histograma de ponderaciones para un valor alto de lambda puede verse como se muestra en la Figura 2.\n",
    "\n",
    "![graph](img/HighLambda.svg \"graph\")\n",
    "\n",
    "**Figura 2. Histograma de ponderaciones.**\n",
    "\n",
    "Reducir el valor de lambda tiende a lograr un histograma más \n",
    "plano, como se muestra en la Figura 3.\n",
    "\n",
    "![graph1](img/LowLambda.svg \"graph1\")\n",
    "\n",
    "**Figura 3. Histograma de ponderaciones producido por un valor de lambda más bajo.**\n",
    "\n",
    "Al elegir un valor de lambda, el objetivo es lograr el balance adecuado entre la simpleza y el ajuste de los datos de entrenamiento:\n",
    "\n",
    "* Si el valor de lambda es demasiado alto, el modelo será simple, pero corres el riesgo de subajustar los datos. El modelo no aprenderá lo suficiente sobre los datos de entrenamiento para hacer predicciones útiles.\n",
    "\n",
    "* Si el valor de lambda es demasiado bajo, el modelo será más complejo, pero corres el riesgo de sobreajustar los datos. El modelo aprenderá demasiado sobre las particularidades de los datos de entrenamiento y no será capaz de generalizar con respecto a datos nuevos.\n",
    "\n",
    "El valor ideal de lambda produce un modelo que generaliza sin problemas los datos nuevos, nunca antes vistos. Lamentablemente, el valor ideal de lambda, depende de los datos, por lo que deberás realizar algunos."
   ]
  }
 ],
 "metadata": {
  "kernelspec": {
   "display_name": "Python 3",
   "language": "python",
   "name": "python3"
  },
  "language_info": {
   "codemirror_mode": {
    "name": "ipython",
    "version": 3
   },
   "file_extension": ".py",
   "mimetype": "text/x-python",
   "name": "python",
   "nbconvert_exporter": "python",
   "pygments_lexer": "ipython3",
   "version": "3.5.2"
  }
 },
 "nbformat": 4,
 "nbformat_minor": 2
}
