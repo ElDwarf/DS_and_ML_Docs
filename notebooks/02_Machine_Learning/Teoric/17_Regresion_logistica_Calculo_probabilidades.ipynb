{
 "cells": [
  {
   "cell_type": "markdown",
   "metadata": {},
   "source": [
    "Muchos problemas exigen como resultado el cálculo de una probabilidad. La regresión logística es un mecanismo extremadamente eficiente para calcular probabilidades. En la práctica, puedes usar la probabilidad resultante de una de las dos maneras siguientes:\n",
    "\n",
    "* \"tal cual\"\n",
    "* convertida en una categoría binaria\n",
    "\n",
    "Veamos cómo podemos usar la probabilidad \"tal cual\". Supongamos que creamos un modelo de regresión logística para predecir la probabilidad de que un perro ladre durante la noche. A esa probabilidad la llamaremos:\n",
    "\n",
    "```\n",
    "p(bark | night)\n",
    "```\n",
    "\n",
    "Si el modelo de regresión logística predice una probabilidad ```p(bark | night)``` de 0.05, en un año, los dueños de perros se despertarían aproximadamente 18 veces:\n",
    "\n",
    "```\n",
    "startled = p(bark | night) * nights\n",
    "18 ~= 0.05 * 365\n",
    "```\n",
    "\n",
    "En muchos casos, representarás el resultado de la regresión logística como la solución a un problema de clasificación binaria, donde el objetivo es predecir correctamente una de dos etiquetas posibles (p. ej., \"es spam\" o \"no es spam\"). Más adelante, hay un módulo dedicado a ese tema.\n",
    "\n",
    "Posiblemente te preguntes de qué manera un modelo de regresión logística puede garantizar un resultado que siempre esté entre 0 y 1. Como suele pasar, una **función sigmoidea**, definida a continuación, produce un resultado con esas mismas características:\n",
    "\n",
    "$$\\begin{eqnarray}\n",
    "y=\\frac{1}{1+e^{-z}}\n",
    "\\end{eqnarray}$$\n",
    "\n",
    "La función sigmoidea genera la siguiente representación:\n",
    "\n",
    "![graph](img/SigmoidFunction.png \"graph\")\n",
    "\n",
    "**Figura 1: Función sigmoidea**\n",
    "\n",
    "Si z representa el resultado de la capa lineal de un modelo entrenado con regresión logística, la función sigmoidea (z) generará un valor (una probabilidad) entre 0 y 1. En términos matemáticos:\n",
    "\n",
    "$$\\begin{eqnarray}\n",
    "y'=\\frac{1}{1+e^{-(z)}}\n",
    "\\end{eqnarray}$$\n",
    "\n",
    "donde:\n",
    "\n",
    "* $y'$ es el resultado del modelo de regresión logística para un ejemplo en particular.\n",
    "* $z$ es $b + w_1x_1 + w_2x_2 + ... w_Nx_N$\n",
    "  * Los valores w son los pesos aprendidos del modelo, y b es la ordenada al origen.\n",
    "  * Los valores x son los valores de atributo para un ejemplo en particular.\n",
    "\n",
    "Debes tener en cuenta que z también se representa como logaritmo de probabilidad, porque el valor inverso de la función sigmoidea indica que zz puede definirse como el logaritmo de la probabilidad de la etiqueta \"1\" (p. ej., \"el perro ladra\") dividida por la probabilidad de la etiqueta \"0\" (p. ej., \"el perro no ladra\"):\n",
    "\n",
    "$$\\begin{eqnarray}\n",
    "z=log(\\frac{y}{1-y})\n",
    "\\end{eqnarray}$$\n",
    "\n",
    "Esta es la función sigmoidea con las etiquetas de AA:\n",
    "\n",
    "![graph1](img/LogisticRegressionOutput.svg \"graph1\")\n",
    "\n",
    "**Figura 2: Resultado de la regresión logística**"
   ]
  }
 ],
 "metadata": {
  "kernelspec": {
   "display_name": "Python 3",
   "language": "python",
   "name": "python3"
  },
  "language_info": {
   "codemirror_mode": {
    "name": "ipython",
    "version": 3
   },
   "file_extension": ".py",
   "mimetype": "text/x-python",
   "name": "python",
   "nbconvert_exporter": "python",
   "pygments_lexer": "ipython3",
   "version": "3.5.2"
  }
 },
 "nbformat": 4,
 "nbformat_minor": 2
}
