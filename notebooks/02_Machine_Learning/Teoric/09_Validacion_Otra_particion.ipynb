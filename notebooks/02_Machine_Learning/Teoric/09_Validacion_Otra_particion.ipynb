{
 "cells": [
  {
   "cell_type": "markdown",
   "metadata": {},
   "source": [
    "En el módulo anterior, se presentó la partición de un conjunto de datos en un conjunto de entrenamiento y otro de prueba. Esta partición te permitió entrenar un conjunto de ejemplos y luego probar el modelo con un conjunto de ejemplos diferente. Con dos particiones, el flujo de trabajo podría verse de la siguiente manera:\n",
    "\n",
    "![graph](img/WorkflowWithTestSet.svg \"graph\")\n",
    "\n",
    "**Figura 1. ¿Un flujo de trabajo posible?**\n",
    "\n",
    "En la figura, \"Ajustar el modelo\" significa modificar cualquier aspecto que puedas imaginar del modelo, desde cambiar la tasa de aprendizaje hasta agregar o quitar atributos, o diseñar un modelo completamente nuevo desde cero. Al final de este flujo de trabajo, elijes el modelo que mejor se desempeñe con respecto al conjunto de prueba.\n",
    "\n",
    "La división del conjunto de datos en dos conjuntos es una buena idea, pero no constituye una panacea. Puedes reducir en gran medida las posibilidades de sobreajuste al particionar el conjunto de datos en los tres subconjuntos que se muestran en la siguiente figura:\n",
    "\n",
    "![graph1](img/PartitionThreeSets.svg \"graph1\")\n",
    "\n",
    "**Figura 2. División de un único conjunto de datos en tres subconjuntos.**\n",
    "\n",
    "Usa el **conjunto de validación** para evaluar los resultados del conjunto de entrenamiento. A continuación, usa el conjunto de prueba para verificar la evaluación después de que el modelo haya \"pasado\" el conjunto de validación. En la siguiente figura, se muestra el nuevo flujo de trabajo:\n",
    "\n",
    "![graph2](img/WorkflowWithValidationSet.svg \"graph2\")\n",
    "\n",
    "**Figura 3. Un flujo de trabajo más eficaz.**\n",
    "\n",
    "En este flujo de trabajo mejorado, realiza lo siguiente:\n",
    "\n",
    "1. Selecciona el modelo que mejor se desempeñe con el conjunto de validación.\n",
    "2. Verifica el modelo con respecto al conjunto de prueba.\n",
    "\n",
    "Este flujo de trabajo es más eficaz porque crea menos exposiciones al conjunto de prueba."
   ]
  }
 ],
 "metadata": {
  "kernelspec": {
   "display_name": "Python 3",
   "language": "python",
   "name": "python3"
  },
  "language_info": {
   "codemirror_mode": {
    "name": "ipython",
    "version": 3
   },
   "file_extension": ".py",
   "mimetype": "text/x-python",
   "name": "python",
   "nbconvert_exporter": "python",
   "pygments_lexer": "ipython3",
   "version": "3.5.2"
  }
 },
 "nbformat": 4,
 "nbformat_minor": 2
}
