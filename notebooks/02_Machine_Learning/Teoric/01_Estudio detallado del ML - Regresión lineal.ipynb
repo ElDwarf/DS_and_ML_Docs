{
 "cells": [
  {
   "cell_type": "markdown",
   "metadata": {},
   "source": [
    "### Estudio detallado del AA: Regresión lineal\n",
    "\n",
    "Es sabido que los grillos cantan con más frecuencias en los días de más calor. Durante décadas, entomólogos profesionales y aficionados han catalogado datos sobre la cantidad de cantos por minuto y la temperatura. Para tu cumpleaños, la tía Ruth te regaló su amada base de datos sobre grillos y te invita a que aprendas un modelo para predecir dicha relación.\n",
    "\n",
    "En primer lugar, es necesario realizar una representación de los datos para examinarlos:\n",
    "\n",
    "![img graf](img/CricketPoints.svg \"graph\")\n",
    "**Figura 1. Cantos por minuto contra temperatura**\n",
    "\n",
    "Efectivamente, la representación muestra que la cantidad de cantos aumenta con la temperatura. ¿Es lineal la relación entre los cantos y la temperatura? Sí, ya que es posible dibujar una línea recta como la siguiente para representar dicha relación:\n",
    "\n",
    "![img graf](img/CricketLine.svg \"graph\")\n",
    "**Figura 2. Una relación lineal**\n",
    "\n",
    "Si bien la línea no pasa perfectamente por cada punto, demuestra con claridad la relación entre la temperatura y los cantos por minuto para dichos puntos. Si aplicamos un poco de álgebra, podemos determinar esta relación de la siguiente manera:\n",
    "\n",
    "\\begin{equation*}\n",
    "y = mx + b\n",
    "\\end{equation*}\n",
    "\n",
    "donde:\n",
    "* $y$ es la temperatura en grados centígrados, correspondiente al valor que intentamos predecir.\n",
    "* $m$ es la pendiente de la línea.\n",
    "* $x$ es la cantidad de cantos por minuto, correspondiente al valor de nuestro atributo de entrada.\n",
    "* $b$ es la intersección en $y$.\n",
    "\n",
    "Según las convenciones del aprendizaje automático, la ecuación para un modelo se escribirá de una forma un poco diferente:\n",
    "\n",
    "\\begin{equation*}\n",
    "y' = b + {w}_1{x}_1\n",
    "\\end{equation*}\n",
    "\n",
    "donde:\n",
    "* $y'$ es la etiqueta predicha (un resultado deseado).\n",
    "* $b$ es la ordenada al origen (la intersección en y). En alguna literatura de aprendizaje automático, se hace referencia a ella como .\n",
    "* ${w}_1$ es la ponderación del atributo 1. La ponderación es el mismo concepto de la \"pendiente\" , que se indicó anteriormente.\n",
    "* ${x}_1$ es un atributo (una entrada conocida).\n",
    "Para **inferir** (predecir) la temperatura $y'$ para un valor nuevo de cantos por minuto  ${x}_1$, solo agrega el valor de ${x}_1$ a este modelo.\n",
    "\n",
    "Los subíndices (p. ej., ${w}_1$ y ${x}_1$) indican modelos más sofisticados que se basan en varios atributos. Por ejemplo, un modelo que se basa en tres atributos usaría la siguiente ecuación:\n",
    "\n",
    "\\begin{equation*}\n",
    "y´= b + {w}_1{x}_1 + {w}_1{x}_2 + {w}_3{x}_3\n",
    "\\end{equation*}\n",
    " "
   ]
  },
  {
   "cell_type": "code",
   "execution_count": null,
   "metadata": {},
   "outputs": [],
   "source": []
  }
 ],
 "metadata": {
  "kernelspec": {
   "display_name": "Python 3",
   "language": "python",
   "name": "python3"
  },
  "language_info": {
   "codemirror_mode": {
    "name": "ipython",
    "version": 3
   },
   "file_extension": ".py",
   "mimetype": "text/x-python",
   "name": "python",
   "nbconvert_exporter": "python",
   "pygments_lexer": "ipython3",
   "version": "3.5.2"
  }
 },
 "nbformat": 4,
 "nbformat_minor": 2
}
