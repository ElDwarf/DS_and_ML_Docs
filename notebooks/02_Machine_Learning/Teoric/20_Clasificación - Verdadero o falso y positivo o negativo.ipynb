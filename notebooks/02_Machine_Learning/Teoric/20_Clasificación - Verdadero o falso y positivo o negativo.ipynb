{
 "cells": [
  {
   "cell_type": "markdown",
   "metadata": {},
   "source": [
    "En esta sección, definiremos los componentes básicos de las métricas que utilizaremos para evaluar modelos de clasificación. Pero primero, una fábula:\n",
    "\n",
    "**Fábula de Esopo: El joven y el lobo (versión comprimida)**\n",
    "\n",
    "Un joven pastor se aburre de cuidar el rebaño del pueblo y, para divertirse, grita: \"¡Lobo!\", aunque no hay ningún lobo a la vista. Los vecinos corren para proteger el rebaño, pero se enojan mucho al descubrir que el joven solo estaba bromeando.\n",
    "\n",
    "[Repite el párrafo anterior N veces].\n",
    "\n",
    "Una noche, el joven pastor ve un lobo real acercándose al rebaño y grita: \"¡Lobo!\". Los vecinos se niegan a ser engañados otra vez y se quedan en sus casas. El hambriento lobo convierte el rebaño en costillas de cordero. El pueblo comienza a sentirse hambriento. A continuación, se desata el pánico.\n",
    "\n",
    "Hagamos las siguientes definiciones:\n",
    "\n",
    "* \"Lobo\" es una clase **positiva**.\n",
    "* \"Ningún lobo\" es una clase **negativa**.\n",
    "Podemos resumir nuestro modelo \"predicción de lobos\" con una matriz de confusión de 2x2 que muestra los cuatro resultados posibles:\n",
    "\n",
    "|**Verdadero positivo (VP)**: <br>* Realidad: La amenaza de un lobo. <br>* El pastor dijo: \"Lobo\". <br>* Resultado: El pastor es un héroe. | **Falso positivo (FP)**: <br>* Realidad: No hay amenaza de un lobo. <br>* El pastor dijo: \"Lobo\". <br>* Resultado: Los vecinos están enojados con el pastor por despertarlos.|\n",
    "|--|--|\n",
    "|**Falso negativo (FN)**: <br>* Realidad: La amenaza de un lobo. <br>* El pastor dijo: \"No hay un lobo\". <br>* Resultado: El lobo se comió todas las ovejas. | **Verdadero negativo (VN)**: <br>* Realidad: No hay amenaza de un lobo. <br>* El pastor dijo: \"No hay un lobo\". <br>* Resultado: Todos están bien.|\n",
    "\n",
    "Un **verdadero positivo** es un resultado en el que el modelo predice correctamente la clase positiva. De manera similar, un **verdadero negativo** es un resultado en el que el modelo predice correctamente la clase negativa.\n",
    "\n",
    "Un **falso positivo** es un resultado en el que el modelo predice incorrectamente la clase positiva. Y un **falso negativo** es un resultado en el que el modelo predice incorrectamente la clase negativa.\n",
    "\n",
    "En las siguientes secciones, observaremos cómo evaluar los modelos de clasificación con métricas derivadas de estos cuatro resultados."
   ]
  }
 ],
 "metadata": {
  "kernelspec": {
   "display_name": "Python 3",
   "language": "python",
   "name": "python3"
  },
  "language_info": {
   "codemirror_mode": {
    "name": "ipython",
    "version": 3
   },
   "file_extension": ".py",
   "mimetype": "text/x-python",
   "name": "python",
   "nbconvert_exporter": "python",
   "pygments_lexer": "ipython3",
   "version": "3.5.2"
  }
 },
 "nbformat": 4,
 "nbformat_minor": 2
}
