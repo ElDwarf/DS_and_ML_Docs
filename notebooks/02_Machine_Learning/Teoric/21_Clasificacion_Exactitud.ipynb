{
 "cells": [
  {
   "cell_type": "markdown",
   "metadata": {},
   "source": [
    "La exactitud es una métrica para evaluar modelos de clasificación. Informalmente, la **exactitud** es la fracción de predicciones que el modelo realizó correctamente. Formalmente, la exactitud tiene la siguiente definición:\n",
    "\n",
    "$$\\begin{eqnarray}\n",
    "Exactitud = \\frac{Numero de predicciones correctas}{Numero total de predicciones}\n",
    "\\end{eqnarray}$$\n",
    "\n",
    "En la clasificación binaria, la exactitud también se puede calcular en términos de positivos y negativos de la siguiente manera:\n",
    "\n",
    "$$\\begin{eqnarray}\n",
    "Exactitud = \\frac{VP + VN}{VP + VN + FP + FN}\n",
    "\\end{eqnarray}$$\n",
    "\n",
    "Donde VP = Verdaderos positivos, VN = Verdaderos negativos, FP = Falsos positivos y FN = Falsos negativos.\n",
    "\n",
    "Calcularemos la precisión del siguiente modelo, que clasificó 100 tumores como malignos (la clase positiva) o benignos (la clase negativa):\n",
    "\n",
    "\n",
    "| Verdadero positivo (VP): Realidad: Maligno Predicción del modelo de AA: Maligno Número de resultados de VP: 1 | Falso positivo (FP): Realidad: Benigno Predicción del modelo de AA: Maligno Número de resultados de FP: 1 |\n",
    "|--|--|\n",
    "| Falso negativo (FN): Realidad: Maligno Predicción del modelo de AA: Benigno Número de resultados de FN: 8 | Verdadero negativo (VN): Realidad: Benigno Predicción del modelo de AA: Benigno Número de resultados de VN: 90| \n",
    "\n",
    "$$\\begin{eqnarray}\n",
    "Exactitud = \\frac{VP + VN}{VP + VN + FP + FN} = \\frac{1 + 90}{1 + 90 + 1 + 8} = 0.91\n",
    "\\end{eqnarray}$$\n",
    "\n",
    "La exactitud resulta ser de 0.91 o 91% (91 predicciones correctas de 100 ejemplos totales). Eso significa que nuestro clasificador de tumores está haciendo un buen trabajo en la identificación de malignidades, ¿no es cierto?\n",
    "\n",
    "De hecho, hagamos un análisis más detallado de los positivos y negativos para conocer mejor el rendimiento de nuestro modelo.\n",
    "\n",
    "De los 100 ejemplos de tumores, 91 son benignos (90 VN y 1 FP) y 9 son malignos (1 VP y 8 FN).\n",
    "\n",
    "De los 91 tumores benignos, el modelo identifica correctamente 90 como benignos. Eso es bueno. Sin embargo, de los 9 tumores malignos, el modelo solo identifica correctamente 1 como maligno; este es un resultado terrible, ya que 8 de 9 malignidades no se diagnostican.\n",
    "\n",
    "Mientras que un 91% de exactitud podría parecer bueno a primera vista, otro modelo de clasificación de tumores que siempre predijera benigno lograría la misma exactitud (91/100 predicciones correctas) en nuestros ejemplos. En otras palabras, nuestro modelo no es mejor que otro que tenga una capacidad predictiva de cero para distinguir tumores malignos de tumores benignos.\n",
    "\n",
    "La exactitud sola no muestra el panorama completo cuando se trabaja con un **conjunto de datos desequilibrados**, como este, donde hay una disparidad significativa entre el número de etiquetas positivas y negativas.\n",
    "\n",
    "En la próxima sección, observaremos dos métricas que resultan mejores para evaluar problemas de clase desequilibrada: precisión y exhaustividad."
   ]
  }
 ],
 "metadata": {
  "kernelspec": {
   "display_name": "Python 3",
   "language": "python",
   "name": "python3"
  },
  "language_info": {
   "codemirror_mode": {
    "name": "ipython",
    "version": 3
   },
   "file_extension": ".py",
   "mimetype": "text/x-python",
   "name": "python",
   "nbconvert_exporter": "python",
   "pygments_lexer": "ipython3",
   "version": "3.5.2"
  }
 },
 "nbformat": 4,
 "nbformat_minor": 2
}
