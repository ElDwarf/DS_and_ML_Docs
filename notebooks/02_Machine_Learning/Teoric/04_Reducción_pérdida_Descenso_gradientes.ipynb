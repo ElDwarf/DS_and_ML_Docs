{
 "cells": [
  {
   "cell_type": "markdown",
   "metadata": {},
   "source": [
    "El diagrama de enfoque iterativo (Figura 1) contenía un cuadro verde con afirmaciones sin fundamento llamado \"Actualizar parámetros\". Ahora reemplazaremos esa solución algorítmica mágica por algo más sustancial.\n",
    "\n",
    "Supón que tuviéramos el tiempo y los recursos de cómputo para calcular la pérdida de todos los valores posibles de $w_1$. Para el tipo de problemas de regresión que hemos estado examinando, la representación resultante de pérdida frente a $w_1$ siempre será convexa. En otras palabras, la representación siempre tendrá forma de tazón, como la siguiente:\n",
    "\n",
    "![graph](img/convex.svg \"graph\")\n",
    "**Figura 2. Los problemas de regresión producen gráficas de pérdida convexa vs. pesos.**\n",
    "\n",
    "Los problemas convexos tienen un solo mínimo, es decir, un solo lugar en el que la pendiente es exactamente 0. Ese mínimo es donde converge la función de pérdida.\n",
    "\n",
    "Calcular la función de pérdida para cada valor concebible de  $w_1$ en todo el conjunto de datos sería una manera ineficaz de buscar el punto de convergencia. Examinemos un mecanismo más útil, muy popular en el aprendizaje automático, denominado **descenso de gradientes**.\n",
    "\n",
    "La primera etapa en el descenso de gradientes es elegir un valor de inicio (un punto de partida) para $w_1$. El punto de partida no es muy importante; por lo tanto, muchos algoritmos simplemente establecen $w_1$ en 0 o eligen un valor al azar. En la siguiente figura, se muestra que elegimos un punto de partida levemente mayor que 0.\n",
    "\n",
    "[graph1](img/GradientDescentStartingPoint.svg \"graph1\")\n",
    "**Figura 3. Un punto de partida para el descenso de gradientes.**\n",
    "\n",
    "Luego, el algoritmo de descenso de gradientes calcula la gradiente de la curva de pérdida en el punto de partida. En resumen, una **gradiente** es un vector de derivadas parciales; indica por dónde es más cerca o más lejos. Ten en cuenta que la gradiente de pérdida con respecto a un solo peso (como en la Figura 3) es equivalente a la derivada.\n",
    "\n",
    "[Obtén más información acerca de las derivadas parciales y las gradientes](04_A_Derivadas_parciales_y_las_gradientes.ipynb)\n",
    "\n",
    "Ten en cuenta que la gradiente es un vector, de manera que tiene las dos características siguientes:\n",
    "\n",
    "* una dirección\n",
    "* una magnitud\n",
    "\n",
    "La gradiente siempre apunta en la dirección del aumento más empinado de la función de pérdida. El algoritmo de descenso de gradientes toma un paso en dirección de la gradiente negativa para reducir la pérdida lo más rápido posible.\n",
    "\n",
    "![graph2](img/GradientDescentNegativeGradient.svg \"graph2\")\n",
    "\n",
    "**Figura 4. El descenso de gradientes se basa en gradientes negativas.**\n",
    "\n",
    "Para determinar el siguiente punto a lo largo de la curva de la función de pérdida, el algoritmo de descenso de gradientes agrega alguna fracción de la magnitud de la gradiente al punto de partida, como se muestra en la siguiente figura:\n",
    "\n",
    "![graph3](img/GradientDescentGradientStep.svg \"graph3\")\n",
    "\n",
    "**Figura 5. Un paso de la gradiente nos mueve hacia el siguiente punto en la curva de pérdida.**\n",
    "\n",
    "Luego, el descenso de gradientes repite este proceso y se acerca cada vez más al mínimo."
   ]
  },
  {
   "cell_type": "code",
   "execution_count": null,
   "metadata": {},
   "outputs": [],
   "source": []
  }
 ],
 "metadata": {
  "kernelspec": {
   "display_name": "Python 3",
   "language": "python",
   "name": "python3"
  },
  "language_info": {
   "codemirror_mode": {
    "name": "ipython",
    "version": 3
   },
   "file_extension": ".py",
   "mimetype": "text/x-python",
   "name": "python",
   "nbconvert_exporter": "python",
   "pygments_lexer": "ipython3",
   "version": "3.5.2"
  }
 },
 "nbformat": 4,
 "nbformat_minor": 2
}
