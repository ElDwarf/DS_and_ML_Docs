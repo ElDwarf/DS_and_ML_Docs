{
 "cells": [
  {
   "cell_type": "markdown",
   "metadata": {},
   "source": [
    "#### Precisión\n",
    "\n",
    "La **precisión** intenta responder a la siguiente pregunta:\n",
    "\n",
    "¿Qué proporción de identificaciones positivas fue correcta?\n",
    "\n",
    "La precisión se define de la siguiente manera:\n",
    "\n",
    "$$\\begin{eqnarray}\n",
    "Precision = \\frac{VP}{VP + FP}\n",
    "\\end{eqnarray}$$\n",
    "\n",
    "Calculemos la precisión de nuestro modelo de AA en la sección anterior que analiza tumores:\n",
    "\n",
    "<table border=\"1\">\n",
    "  <tbody><tr>\n",
    "    <td style=\"background-color:#99FF99\" width=\"50%\">\n",
    "      <b>Verdaderos positivos (VP): 1</b>\n",
    "    </td>\n",
    "    <td style=\"background-color:#FF9999\">\n",
    "      <b>Falsos positivos (FP): 1</b>\n",
    "    </td>\n",
    "  </tr>\n",
    "  <tr>\n",
    "    <td style=\"background-color:#FF9999\">\n",
    "      <b>Falsos negativos (FN): 8</b>\n",
    "    </td>\n",
    "    <td style=\"background-color:#99FF99\">\n",
    "      <b>Verdaderos negativos (VN): 90</b>\n",
    "    </td>\n",
    "  </tr>\n",
    "</tbody></table>\n",
    "\n",
    "$$\\begin{eqnarray}\n",
    "Precision = \\frac{VP}{VP + FP} = \\frac{1}{1 + 1} = 0.5\n",
    "\\end{eqnarray}$$\n",
    "\n",
    "Nuestro modelo tiene una precisión de 0.5, es decir, cuando predice que un tumor es maligno, acierta el 50% de las veces."
   ]
  },
  {
   "cell_type": "code",
   "execution_count": null,
   "metadata": {},
   "outputs": [],
   "source": []
  }
 ],
 "metadata": {
  "kernelspec": {
   "display_name": "Python 3",
   "language": "python",
   "name": "python3"
  },
  "language_info": {
   "codemirror_mode": {
    "name": "ipython",
    "version": 3
   },
   "file_extension": ".py",
   "mimetype": "text/x-python",
   "name": "python",
   "nbconvert_exporter": "python",
   "pygments_lexer": "ipython3",
   "version": "3.5.2"
  }
 },
 "nbformat": 4,
 "nbformat_minor": 2
}
