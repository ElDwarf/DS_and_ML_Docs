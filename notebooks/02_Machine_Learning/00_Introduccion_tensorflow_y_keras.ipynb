{
 "cells": [
  {
   "cell_type": "markdown",
   "metadata": {},
   "source": [
    "## Introduccion a TensorFlow\n",
    "\n",
    "Como cuando uno esta aprendiendo algo, lo que siempre ansiamos es poder hacer algo practico, asi que como introduccion vamos a resolver un ejercisio basico, con algo simple solamente para poder dimensionar como son las implementaciones de machine learning de una forma muy basica, para luego poder profundisar mas.\n",
    "\n",
    "Aca les dejo un enlace a algo de teoria, para que puedan leerlo, esta sacada de el curso de google de tensoflow, pero lo quiero ir perfeccionando un poco mas:\n",
    "\n",
    "[Indice Documentacion](Teoric/000_Indice.ipynb)"
   ]
  },
  {
   "cell_type": "markdown",
   "metadata": {
    "colab_type": "text",
    "id": "xHZLP-alHoNh"
   },
   "source": [
    "### Ej: Tensorflow 00\n",
    "\n",
    "Este ejercicio esta pensado para poder asistir en el aprendisaje basico de [Deep Learning](https://es.wikipedia.org/wiki/Aprendizaje_profundo) usando redes neuronales implementadas con Tensorflow y Keras.\n",
    "\n",
    "\n"
   ]
  },
  {
   "cell_type": "markdown",
   "metadata": {
    "colab_type": "text",
    "id": "O6WB47aWKUUw"
   },
   "source": [
    "### Problema a resolver\n",
    "\n",
    "El caso que vamos a utilizar para aprender es el siguiente:\n",
    "\n"
   ]
  },
  {
   "cell_type": "markdown",
   "metadata": {
    "colab_type": "text",
    "id": "NErqqp7uBv7O"
   },
   "source": [
    "#### Descripcion\n",
    "\n",
    "Estamos en una base en la antartida trabajando con un grupo de centificos que estudian como impacta la vaciacion de la temperatura del hambiente en el comportamiento reproductivo de los pinguinos, para esto se disponen de dos equipos de medicion instalados que tenems que instalar en dos zonas distintas, pero el problema es que una mide en Fahrenheit mientras que la otra en grados Celsius.\n",
    "\n",
    "Necesitamos implementar un script que permita convertir de un sistema al otro, pero lamentablemente no tenemos internet ni forma de obtener la formular, y nadie se acuerda como hacerla.\n"
   ]
  },
  {
   "cell_type": "markdown",
   "metadata": {
    "colab_type": "text",
    "id": "3PnHGL8yKYH9"
   },
   "source": [
    "### La solucion\n",
    "\n",
    "Para ello pusimos a medir los 2 equipos la misma temperatura con lo que obtuvimos 2 listas que se correlacionan con ambas temperaturas y tenemos que entrenar una red neuronal para que haga la conversion de datos.\n",
    "\n"
   ]
  },
  {
   "cell_type": "markdown",
   "metadata": {
    "colab_type": "text",
    "id": "jLRB0YNunGNb"
   },
   "source": [
    "---\n",
    "#### 1. Imporatemos las librerias\n",
    "\n",
    "Importamos las librerias necesarias en este caso son:\n",
    "\n",
    "*   TensorFlow: Framework que permite crear redes neuronales, entrenarlas y ejeutarlas\n",
    "*   Numpy: Libreria de python para matematicas. pensadas para el uso de vectores, marices, entre muchas cosa mas\n",
    "\n"
   ]
  },
  {
   "cell_type": "code",
   "execution_count": null,
   "metadata": {
    "colab": {},
    "colab_type": "code",
    "id": "wu1Ga-aNLx1B"
   },
   "outputs": [],
   "source": [
    "from __future__ import absolute_import, division, print_function\n",
    "import tensorflow as tf\n",
    "tf.logging.set_verbosity(tf.logging.ERROR)\n",
    "\n",
    "import numpy as np"
   ]
  },
  {
   "cell_type": "markdown",
   "metadata": {
    "colab_type": "text",
    "id": "QDIMTU2Hn4mi"
   },
   "source": [
    "---\n",
    "#### 2. Cargar y preparar el dataset \n",
    "\n",
    "Simulamos los valores de las mediciones por medio de las siguientes lineas de codigos\n",
    "\n",
    "donde **```values_Q```** va a ser un array con 1000 medicones en grados Celsius. y **```values_A```** van a ser las medicones correlacionadas en grados Fahrenheit\n"
   ]
  },
  {
   "cell_type": "code",
   "execution_count": null,
   "metadata": {
    "colab": {},
    "colab_type": "code",
    "id": "9bRQ2aR8EBqd"
   },
   "outputs": [],
   "source": [
    "values_Q = np.random.randint(100, size=1000)\n",
    "values_A = np.array(list(map(lambda x: (x* 1.8 + 32) , values_Q)))"
   ]
  },
  {
   "cell_type": "markdown",
   "metadata": {
    "colab_type": "text",
    "id": "Xkz82IRgscZo"
   },
   "source": [
    "---\n",
    "#### 3. Procesar y analizar los datos de entrenamiento\n",
    "Analizamos la estructura de los array que tenes de entra y de salida para poder armar la red, para ello usamos el atributo **shape** de los numpy array\n",
    "\n",
    "como podemos observar en este caso ambos tiene una estrucutra de 1000 elementos de un dimension 1 cada elemento\n"
   ]
  },
  {
   "cell_type": "code",
   "execution_count": null,
   "metadata": {
    "colab": {},
    "colab_type": "code",
    "id": "oXTpd8e1sTB3"
   },
   "outputs": [],
   "source": [
    "values_Q.shape"
   ]
  },
  {
   "cell_type": "code",
   "execution_count": null,
   "metadata": {
    "colab": {},
    "colab_type": "code",
    "id": "EFSmqeVasZld"
   },
   "outputs": [],
   "source": [
    "values_A.shape"
   ]
  },
  {
   "cell_type": "markdown",
   "metadata": {
    "colab_type": "text",
    "id": "7E82bhD1oyyn"
   },
   "source": [
    "---\n",
    "#### 4. Crear el modelo (La red neuronal)\n",
    "Generamos un objeto **model** que va a a ser nuestro modelo de redes neutornales  para ello utilizamos la sigueinte linea de codigo usando el metodo **Sequential** de Tensorflow pasandole como parametro un array donde cada elemento del array es una capa, en este caso usamos capas [densas](http://www.deeplearningessentials.science/denseNetwork/) (Unod de los tipos de capaz que se utilizan para implementar redes neuronales)\n",
    "\n",
    "\n",
    "```model = tf.keras.Sequential()```\n",
    "\n",
    "Al momento de armar la red neuronal tenemos que tener muy en cuenta la estructura de los datos de entrada y salida en este caso tenemos que las entradas van a ser a ser de 1 solo valor (la temperatura en grados celsius) y 1 solo valor de salida que va a ser la la temperatura en grados Fahrenheit. Por ende sabemos que la imput layer tiene que recivir 1 elemento y la output layer tiene que devolver 1 elemento\n",
    "\n",
    "1. Por esto vamos a definir una capa densa que reciva un array de dimension una usando el parametro **input_shape=[1]**, y vamos a decir que esta capa tiene una sola neurona usando el parametro **unit=1**\n",
    "\n",
    "  ```tf.keras.layers.Dense(units=1, input_shape=[1])```\n",
    "\n",
    "Luego la definicion de la red queda como se ve a continuacion\n",
    "\n",
    "*Nota: Despues de haber leido todo el notebook, animense a modificar la red, agreguenle capas saquenle, cambien la cantidad de neuronas, etc. y vean como se comporta con los cambios*"
   ]
  },
  {
   "cell_type": "code",
   "execution_count": null,
   "metadata": {
    "colab": {},
    "colab_type": "code",
    "id": "vdQehECWMk1K"
   },
   "outputs": [],
   "source": [
    "model = tf.keras.Sequential([\n",
    "  tf.keras.layers.Dense(units=1, input_shape=[1]),\n",
    "])"
   ]
  },
  {
   "cell_type": "markdown",
   "metadata": {
    "colab_type": "text",
    "id": "Jc6EkmtQ0NHO"
   },
   "source": [
    "Un cambio interesante que se puede hacer para optimizar el modelo es cambiarla la [funcion de activacion](https://towardsdatascience.com/activation-functions-neural-networks-1cbd9f8d91d6) para que use la funcion relu, para esto  usamos el parametro activation=tf.nn.relu. a contianuacion les dejo el codigo para que luego lo prueben y vean como se optimiza.\n",
    "\n",
    "```\n",
    "model = tf.keras.Sequential([\n",
    "    tf.keras.layers.Dense(units=1, activation=tf.nn.relu, input_shape=[1]),\n",
    "])\n",
    "```\n",
    "\n",
    "*Nota: relu es solo una de varias funciones de activacion que existen. usar una u otra depende de la naturaleza del caso*"
   ]
  },
  {
   "cell_type": "markdown",
   "metadata": {
    "colab_type": "text",
    "id": "xMiZ3GshvXu1"
   },
   "source": [
    "---\n",
    "#### 5. Compilar el modelo\n",
    "Una vez definida la red tenemos que compilarla esto va a validar que todo lo que hicimos esta bien y va a generar internamente lass estructuras necesarias para poder tener disponible la red lista para entrenar, en este caso vamos a usar la funcion de optimizacion Adam con el parametro **optimizer=tf.keras.optimizers.Adam(0.1)** y el metodo **loss=mean_squared_error** \n",
    "\n",
    "- **Loss function**: Una forma de medir qué tan lejos están las predicciones del resultado deseado.\n",
    "\n",
    "- **Optimizer function**: Una forma de ajustar los valores internos para reducir la pérdida.\n",
    "\n"
   ]
  },
  {
   "cell_type": "code",
   "execution_count": null,
   "metadata": {
    "colab": {},
    "colab_type": "code",
    "id": "pprLV5qFOYrs"
   },
   "outputs": [],
   "source": [
    "model.compile(loss='mean_squared_error',\n",
    "              optimizer=tf.keras.optimizers.Adam(0.1))"
   ]
  },
  {
   "cell_type": "markdown",
   "metadata": {
    "colab_type": "text",
    "id": "HO3iazTTyhXH"
   },
   "source": [
    "---\n",
    "#### 6. Entrenar el modelo\n",
    "Una vez creada nuestra red, netemos que entrenarla para ello usamos el metodo **fit** del modelso pasandole como primer parametro el array de entrada **value_Q**, como segundo parametro el array de salida **values_A**, la cantidad de  30 ciclos de entrenamiento usando el parametro **epochs=30** y en este caso le vamos a pedir tener una salida para ir viendo como va el entrenamiento\n"
   ]
  },
  {
   "cell_type": "code",
   "execution_count": null,
   "metadata": {
    "colab": {},
    "colab_type": "code",
    "id": "kS9m7-LyOarJ"
   },
   "outputs": [],
   "source": [
    "history = model.fit(values_Q, values_A, epochs=30, verbose=1)"
   ]
  },
  {
   "cell_type": "markdown",
   "metadata": {
    "colab_type": "text",
    "id": "gdFxRt2NzN1L"
   },
   "source": [
    "---\n",
    "#### 7. Analizar los resultados del entrenamiento\n",
    "Este paso no es necesario pero vamos a usar matplotlib para graficar el loss del modelso durante el entrenamiento en relacion a los ciclos de entrenamientos\n",
    "\n",
    "*Nota: En este caso si los resultados no son satisfactorios volvermos a analizar los datos, re formularo la red y volvermos a entrenarla*"
   ]
  },
  {
   "cell_type": "code",
   "execution_count": null,
   "metadata": {
    "colab": {},
    "colab_type": "code",
    "id": "200SeZx48EfI"
   },
   "outputs": [],
   "source": [
    "%matplotlib inline\n",
    "import matplotlib.pyplot as plt\n",
    "plt.xlabel('Epoch Number')\n",
    "plt.ylabel(\"Loss Magnitude\")\n",
    "plt.plot(history.history['loss'])"
   ]
  },
  {
   "cell_type": "markdown",
   "metadata": {
    "colab_type": "text",
    "id": "3La7Vrsyzl3F"
   },
   "source": [
    "---\n",
    "#### 8. Predecir los datos \n",
    "Una vez tenemos el  modelos entrenado podemos proceder a hacer predicciones por medio del metodo **predict** del modelo.\n",
    "\n",
    "Tenganen cuenta que el modelo recive array entonces como parametro si queremos convertir 32 grados celsius no le pasamos el **32** como parametro sino que un array con el 32 seria asi **[32]**\n",
    "\n",
    "```model.predict([32])```"
   ]
  },
  {
   "cell_type": "code",
   "execution_count": null,
   "metadata": {
    "colab": {},
    "colab_type": "code",
    "id": "KeFVjXZK0uIP"
   },
   "outputs": [],
   "source": [
    "model.predict([32])"
   ]
  },
  {
   "cell_type": "markdown",
   "metadata": {
    "colab_type": "text",
    "id": "3qux7VUB0xk_"
   },
   "source": [
    "---\n",
    "#### 9. Juguemos con el modelo...\n",
    "Por utlimo y solo para probar el modelso vamos a simular datos y correr el modelso para ver que tanto error tiene en 10 predicciones"
   ]
  },
  {
   "cell_type": "code",
   "execution_count": null,
   "metadata": {
    "colab": {},
    "colab_type": "code",
    "id": "Ap3nVLA5S4G4"
   },
   "outputs": [],
   "source": [
    "for y in np.random.randint(100, size=10):\n",
    "  y = int(y)\n",
    "  value_q = np.array([y], dtype=\"float32\")\n",
    "  prediction = model.predict(value_q)\n",
    "  print(\"Prediccion: {0:0>6.2f}, Valor_real: {1:0>6.2f}, Error: {2:0>6.2f}\".format(\n",
    "      prediction[0][0], (y* 1.8 + 32), abs(prediction[0][0] - (y* 1.8 + 32)))\n",
    "  )"
   ]
  },
  {
   "cell_type": "markdown",
   "metadata": {},
   "source": [
    "---\n",
    "#### Conclusion\n",
    "\n",
    "Como pueden ver este modelo resuelve lo necesario pero no tiene resultados excelentes, ya que presenta un error, prueben volver a repetir desde el [paso 6](#6.-Entrenar-el-modelo) en adelante y vean como va mejorando a medida que se entrena mas, con 2 veces anda bien.\n",
    "\n",
    "Por otro lado prueben con la optimizacion que esta sugerida en el paso 4, para ver como con menos enntrenamiento obtiene mejores resultados."
   ]
  },
  {
   "cell_type": "markdown",
   "metadata": {
    "colab_type": "text",
    "id": "AaI-D3rqfgyO"
   },
   "source": [
    "## Ejercicio\n",
    "\n",
    "Vos todos los dias vas a comer al buffer de la empresa que venden solo 3 productos (Hamburguesa, Papas Fritas y Gaseosa). Al llegar te toman el pedido y directamente te dan el monto total de la compra.\n",
    "\n",
    "Luego de varios dias, te pones a pensar cuanto costara cada producto y solo tenes los ticket que tiene la cantidad de cada producto y el monto total de la compra.\n",
    "\n",
    "Para poder averiguar el monto total de la compra tenes que entrenar un modelos capaz de recibir las cantidades de los 3 productos y que te devuelva el valor total de la compra. con este modelso podes averiguar el monto unitario de cada producto.\n",
    "\n",
    "\n",
    "**Te animas a hacerlo?**\n",
    "\n",
    "\n",
    "### Datos de los ticket"
   ]
  },
  {
   "cell_type": "code",
   "execution_count": null,
   "metadata": {
    "colab": {},
    "colab_type": "code",
    "id": "Rpij2BxdhRbh"
   },
   "outputs": [],
   "source": [
    "pedidos = [\n",
    "    [4, 4, 0], [1, 1, 0], [3, 0, 1], [1, 2, 1], [3, 2, 4], [3, 0, 1], [2, 4, 3],\n",
    "    [3, 0, 1], [3, 2, 4], [0, 1, 1], [3, 0, 2], [4, 4, 0], [1, 3, 1], [4, 1, 0],\n",
    "    [2, 2, 1], [2, 4, 3], [0, 2, 1], [1, 2, 2], [3, 1, 4], [2, 4, 2], [4, 2, 3],\n",
    "    [4, 3, 0], [4, 4, 1], [3, 1, 4], [1, 3, 1], [1, 1, 4], [1, 0, 3], [1, 1, 3],\n",
    "    [2, 1, 4], [3, 2, 3], [4, 3, 4], [3, 4, 2], [2, 3, 2], [3, 1, 0], [2, 3, 3],\n",
    "    [2, 2, 2], [1, 3, 1]\n",
    "]\n",
    "totales = [\n",
    "    80., 20., 48., 28., 67., 48., 59., 48., 67., 8., 51., 80., 33., 65.,\n",
    "    43., 59., 13., 31., 62., 56., 79., 75., 83., 62., 33., 32., 24., 29.,\n",
    "    47., 64., 87., 71., 51., 50., 54., 46., 33.\n",
    "]"
   ]
  }
 ],
 "metadata": {
  "colab": {
   "collapsed_sections": [],
   "name": "00_TF_basic_models.ipynb",
   "provenance": [],
   "version": "0.3.2"
  },
  "kernelspec": {
   "display_name": "Python 3",
   "language": "python",
   "name": "python3"
  },
  "language_info": {
   "codemirror_mode": {
    "name": "ipython",
    "version": 3
   },
   "file_extension": ".py",
   "mimetype": "text/x-python",
   "name": "python",
   "nbconvert_exporter": "python",
   "pygments_lexer": "ipython3",
   "version": "3.5.2"
  }
 },
 "nbformat": 4,
 "nbformat_minor": 1
}
