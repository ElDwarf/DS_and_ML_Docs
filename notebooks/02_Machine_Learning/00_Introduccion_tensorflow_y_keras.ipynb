{
 "cells": [
  {
   "cell_type": "markdown",
   "metadata": {},
   "source": [
    "## Introduccion a TensorFlow\n",
    "\n",
    "Como cuando uno esta aprendiendo algo, lo que siempre ansiamos es poder hacer algo practico, asi que como introduccion vamos a resolver un ejercisio basico, con algo simple solamente para poder dimensionar como son las implementaciones de machine learning de una forma muy basica, para luego poder profundisar mas.\n",
    "\n",
    "Aca les dejo un enlace a algo de teoria, para que puedan leerlo, esta sacada de el curso de google de tensoflow, pero lo quiero ir perfeccionando un poco mas:\n",
    "\n",
    "[Indice Documentacion](Teoric/000_Indice.ipynb)\n",
    "\n"
   ]
  },
  {
   "cell_type": "markdown",
   "metadata": {
    "colab_type": "text",
    "id": "xHZLP-alHoNh"
   },
   "source": [
    "## Ej: Tensorflow 00\n",
    "\n",
    "Este ejercicio esta pensado para poder asistir en el aprendisaje basico de [Deep Learning](https://es.wikipedia.org/wiki/Aprendizaje_profundo) usando redes neuronales implementadas con Tensorflow y Keras.\n",
    "\n",
    "\n"
   ]
  },
  {
   "cell_type": "markdown",
   "metadata": {
    "colab_type": "text",
    "id": "O6WB47aWKUUw"
   },
   "source": [
    "### Problema a resolver\n",
    "\n",
    "El caso que vamos a utilizar para aprender es el siguiente:\n",
    "\n",
    "##### Descripcion\n",
    "\n",
    "Estamos en una base en la antartida trabajando con un grupo de centificos que estudian como impacta la vaciacion de la temperatura del hambiente en el comportamiento reproductivo de los pinguinos, para esto se disponen de dos equipos de medicion instalados que tenems que instalar en dos zonas distintas, pero el problema es que una mide en Fahrenheit mientras que la otra en grados Celsius.\n",
    "\n",
    "Necesitamos implementar un script que permita convertir de un sistema al otro, pero lamentablemente no tenemos internet ni forma de obtener la formular, y nadie se acuerda como hacerla.\n"
   ]
  },
  {
   "cell_type": "markdown",
   "metadata": {
    "colab_type": "text",
    "id": "3PnHGL8yKYH9"
   },
   "source": [
    "### La solucion\n",
    "\n",
    "Para ello pusimos a medir los 2 equipos la misma temperatura con lo que obtuvimos 2 listas que se correlacionan con ambas temperaturas y tenemos que entrenar una red neuronal para que haga la conversion de datos.\n",
    "\n"
   ]
  },
  {
   "cell_type": "markdown",
   "metadata": {
    "colab_type": "text",
    "id": "jLRB0YNunGNb"
   },
   "source": [
    "Importamos las librerias necesarias en este caso son:\n",
    "\n",
    "*   TensorFlow: Framework que permite crear redes neuronales, entrenarlas y ejeutarlas\n",
    "*   Numpy: Libreria de python para matematicas. pensadas para el uso de vectores, marices, entre muchas cosa mas\n",
    "\n"
   ]
  },
  {
   "cell_type": "code",
   "execution_count": null,
   "metadata": {
    "colab": {},
    "colab_type": "code",
    "id": "wu1Ga-aNLx1B"
   },
   "outputs": [],
   "source": [
    "from __future__ import absolute_import, division, print_function\n",
    "import tensorflow as tf\n",
    "\n",
    "import numpy as np"
   ]
  },
  {
   "cell_type": "markdown",
   "metadata": {
    "colab_type": "text",
    "id": "QDIMTU2Hn4mi"
   },
   "source": [
    "---\n",
    "Simulamos los valores de las mediciones por medio de las siguientes lineas de codigos\n",
    "\n",
    "donde **```values_Q```** va a ser un array con 1000 medicones en grados Celsius. y **```values_A```** van a ser las medicones correlacionadas en grados Fahrenheit\n"
   ]
  },
  {
   "cell_type": "code",
   "execution_count": null,
   "metadata": {
    "colab": {},
    "colab_type": "code",
    "id": "9bRQ2aR8EBqd"
   },
   "outputs": [],
   "source": [
    "values_Q = np.random.randint(100, size=1000)\n",
    "values_A = np.array(list(map(lambda x: (x* 1.8 + 32) , values_Q)))"
   ]
  },
  {
   "cell_type": "markdown",
   "metadata": {
    "colab_type": "text",
    "id": "Xkz82IRgscZo"
   },
   "source": [
    "---\n",
    "Analizamos la estructura de los array que tenes de entra y de salida para poder armar la red, para ello usamos el atributo **shape** de los numpy array\n",
    "\n",
    "como podemos observar en este caso ambos tiene una estrucutra de 1000 elementos de un dimension 1 cada elemento\n"
   ]
  },
  {
   "cell_type": "code",
   "execution_count": null,
   "metadata": {
    "colab": {},
    "colab_type": "code",
    "id": "oXTpd8e1sTB3"
   },
   "outputs": [],
   "source": [
    "values_Q.shape"
   ]
  },
  {
   "cell_type": "code",
   "execution_count": null,
   "metadata": {
    "colab": {},
    "colab_type": "code",
    "id": "EFSmqeVasZld"
   },
   "outputs": [],
   "source": [
    "values_A.shape"
   ]
  },
  {
   "cell_type": "markdown",
   "metadata": {
    "colab_type": "text",
    "id": "7E82bhD1oyyn"
   },
   "source": [
    "---\n",
    "Generamos un objeto **model** que va a a ser nuestro modelo de redes neutornales  para ello utilizamos la sigueinte linea de codigo usando el metodo **Sequential** de Tensorflow pasandole como parametro un array donde cada elemento del array es una capa, en este caso usamos capas [densas](http://www.deeplearningessentials.science/denseNetwork/) (Unod de los tipos de capaz que se utilizan para implementar redes neuronales)\n",
    "\n",
    "\n",
    "```model = tf.keras.Sequential()```\n",
    "\n",
    "Al momento de armar la red neuronal tenemos que tener muy en cuenta la estructura de los datos de entrada y salida en este caso tenemos que las entradas van a ser a ser de 1 solo valor (la temperatura en grados celsius) y 1 solo valor de salida que va a ser la la temperatura en grados Fahrenheit. Por ende sabemos que la imput layer tiene que recivir 1 elemento y la output layer tiene que devolver 1 elemento, al ser una sola neurola esta va a generar una sola salida\n",
    "\n",
    "1. Por esto vamos a definir una capa densa que reciva un array de dimension una usando el parametro **input_shape=[1]**, y vamos a decir que esta capa tiene una sola neurona usando el parametro **unit=1**\n",
    "\n",
    "  ```tf.keras.layers.Dense(units=1, input_shape=[1])```\n",
    "\n",
    "\n",
    "Luego la definicion de la red queda como se ve a continuacion"
   ]
  },
  {
   "cell_type": "code",
   "execution_count": null,
   "metadata": {
    "colab": {},
    "colab_type": "code",
    "id": "vdQehECWMk1K"
   },
   "outputs": [],
   "source": [
    "model = tf.keras.Sequential([\n",
    "  tf.keras.layers.Dense(units=1, input_shape=[1]),\n",
    "])\n"
   ]
  },
  {
   "cell_type": "code",
   "execution_count": null,
   "metadata": {
    "colab": {},
    "colab_type": "code",
    "id": "pprLV5qFOYrs"
   },
   "outputs": [],
   "source": [
    "model.compile(loss='mean_squared_error',\n",
    "              optimizer=tf.keras.optimizers.Adam(0.1))"
   ]
  },
  {
   "cell_type": "code",
   "execution_count": null,
   "metadata": {
    "colab": {},
    "colab_type": "code",
    "id": "kS9m7-LyOarJ"
   },
   "outputs": [],
   "source": [
    "history = model.fit(values_Q, values_A, epochs=100, verbose=1)\n",
    "print(\"Finished training the model\")"
   ]
  },
  {
   "cell_type": "code",
   "execution_count": null,
   "metadata": {
    "colab": {},
    "colab_type": "code",
    "id": "OEVf7UmDOncD"
   },
   "outputs": [],
   "source": [
    "%matplotlib inline\n",
    "import matplotlib.pyplot as plt\n",
    "plt.xlabel('Epoch Number')\n",
    "plt.ylabel(\"Loss Magnitude\")\n",
    "plt.plot(history.history['loss'])"
   ]
  },
  {
   "cell_type": "code",
   "execution_count": null,
   "metadata": {
    "colab": {},
    "colab_type": "code",
    "id": "Ap3nVLA5S4G4"
   },
   "outputs": [],
   "source": [
    "for y in np.random.randint(100, size=10):\n",
    "  y = int(y)\n",
    "  value_q = np.array([y], dtype=\"float32\")\n",
    "  prediction = model.predict(value_q)\n",
    "  print(\"Prediccion: {0:0>6.2f}, Valor_real: {1:0>6.2f}, Error: {2:0>6.2f}\".format(\n",
    "      prediction[0][0], (y* 1.8 + 32), abs(prediction[0][0] - (y* 1.8 + 32)))\n",
    "  )"
   ]
  },
  {
   "cell_type": "markdown",
   "metadata": {
    "colab_type": "text",
    "id": "AaI-D3rqfgyO"
   },
   "source": [
    "## Ejercicio\n",
    "\n",
    "Vos todos los dias vas a comer al buffer de la empresa que venden solo 3 productos (Hamburguesa, Papas Fritas y Gaseosa). Al llegar te toman el pedido y directamente te dan el monto total de la compra.\n",
    "\n",
    "Luego de varios dias, te pones a pensar cuanto costara cada producto y solo tenes los ticket que tiene la cantidad de cada producto y el monto total de la compra.\n",
    "\n",
    "Para poder averiguar el monto total de la compra tenes que entrenar un modelos capaz de recibir las cantidades de los 3 productos y que te devuelva el valor total de la compra. con este modelso podes averiguar el monto unitario de cada producto.\n",
    "\n",
    "\n",
    "**Te animas a hacerlo?**\n",
    "\n",
    "\n",
    "### Datos de los ticket"
   ]
  },
  {
   "cell_type": "code",
   "execution_count": null,
   "metadata": {
    "colab": {},
    "colab_type": "code",
    "id": "Rpij2BxdhRbh"
   },
   "outputs": [],
   "source": [
    "pedidos = [\n",
    "    [4, 4, 0], [1, 1, 0], [3, 0, 1], [1, 2, 1], [3, 2, 4], [3, 0, 1], [2, 4, 3],\n",
    "    [3, 0, 1], [3, 2, 4], [0, 1, 1], [3, 0, 2], [4, 4, 0], [1, 3, 1], [4, 1, 0],\n",
    "    [2, 2, 1], [2, 4, 3], [0, 2, 1], [1, 2, 2], [3, 1, 4], [2, 4, 2], [4, 2, 3],\n",
    "    [4, 3, 0], [4, 4, 1], [3, 1, 4], [1, 3, 1], [1, 1, 4], [1, 0, 3], [1, 1, 3],\n",
    "    [2, 1, 4], [3, 2, 3], [4, 3, 4], [3, 4, 2], [2, 3, 2], [3, 1, 0], [2, 3, 3],\n",
    "    [2, 2, 2], [1, 3, 1]\n",
    "]\n",
    "totales = [\n",
    "    80., 20., 48., 28., 67., 48., 59., 48., 67., 8., 51., 80., 33., 65.,\n",
    "    43., 59., 13., 31., 62., 56., 79., 75., 83., 62., 33., 32., 24., 29.,\n",
    "    47., 64., 87., 71., 51., 50., 54., 46., 33.\n",
    "]"
   ]
  }
 ],
 "metadata": {
  "colab": {
   "collapsed_sections": [],
   "name": "Copia de Tensorflow_00.ipynb",
   "provenance": [],
   "version": "0.3.2"
  },
  "kernelspec": {
   "display_name": "Python 3",
   "language": "python",
   "name": "python3"
  },
  "language_info": {
   "codemirror_mode": {
    "name": "ipython",
    "version": 3
   },
   "file_extension": ".py",
   "mimetype": "text/x-python",
   "name": "python",
   "nbconvert_exporter": "python",
   "pygments_lexer": "ipython3",
   "version": "3.5.2"
  }
 },
 "nbformat": 4,
 "nbformat_minor": 1
}
