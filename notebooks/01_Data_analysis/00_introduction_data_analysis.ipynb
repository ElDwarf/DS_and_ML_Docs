{
 "cells": [
  {
   "cell_type": "markdown",
   "metadata": {},
   "source": [
    "# 00 Introduccion al Analisis de Datos\n",
    "\n",
    "En este notebook, vamos a empezar con el analisis de datos. Un paso muy important tanto en Data science como en Machine Learning es la preparacion de los datos, asi como la interpretacion, el analisys y la limpieza de los mismos.\n",
    "\n",
    "Para ello vamos a a usar 3 librerias principalmente:\n",
    "\n",
    "1. [Pandas](01_introduction_Pandas.ipynb)\n",
    "2. [Numpy](02_introduction_numpy.ipynb)\n",
    "3. [Matplotlib](03_instroduction_matplotlib.ipynb)"
   ]
  }
 ],
 "metadata": {
  "kernelspec": {
   "display_name": "Python 3",
   "language": "python",
   "name": "python3"
  },
  "language_info": {
   "codemirror_mode": {
    "name": "ipython",
    "version": 3
   },
   "file_extension": ".py",
   "mimetype": "text/x-python",
   "name": "python",
   "nbconvert_exporter": "python",
   "pygments_lexer": "ipython3",
   "version": "3.5.2"
  }
 },
 "nbformat": 4,
 "nbformat_minor": 2
}
