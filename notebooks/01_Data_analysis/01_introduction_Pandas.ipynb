{
 "cells": [
  {
   "cell_type": "markdown",
   "metadata": {},
   "source": [
    "# 01 Intrucción Pandas\n",
    "\n",
    "[Pandas](https://pandas.pydata.org/) es una libreria que provee herramientas para menjode estructuras de datos y analisis de datos.\n",
    "\n",
    "Panda nos permite crear dataframes partiendo desde muchas fuentes como por ejemplo los archivos csv, para ello vamos a empezar importando la libreria y luego vamos a cargar un csv desde internet, lo mismo se podria hacer desde su disco local."
   ]
  },
  {
   "cell_type": "markdown",
   "metadata": {},
   "source": [
    "### Importams pandas\n",
    "\n",
    " Importamos pandas y luego imprimimos la version para verificar que se importo correctamente"
   ]
  },
  {
   "cell_type": "code",
   "execution_count": null,
   "metadata": {},
   "outputs": [],
   "source": [
    "from __future__ import print_function\n",
    "\n",
    "import pandas as pd\n",
    "pd.__version__"
   ]
  },
  {
   "cell_type": "markdown",
   "metadata": {},
   "source": [
    "### Carga de datos\n",
    "\n",
    "Cargamos un csv desde internet por medio de la url directamente"
   ]
  },
  {
   "cell_type": "code",
   "execution_count": null,
   "metadata": {},
   "outputs": [],
   "source": [
    "ch_df = pd.read_csv(\"https://download.mlcc.google.com/mledu-datasets/california_housing_train.csv\", sep=\",\")"
   ]
  },
  {
   "cell_type": "markdown",
   "metadata": {},
   "source": [
    "Los dataframe tiene una estructura de tabla con columnas con sus titulos las cules pueden ser utlizadas para consultar, buscar, filtrar datos al igual que registros con los datos.\n",
    "\n",
    "a continuacion vamos a empezar a revisar metodos utiles dentro de pandas"
   ]
  },
  {
   "cell_type": "markdown",
   "metadata": {},
   "source": [
    "### Metodo head\n",
    "\n",
    "Nos permite ver rapidamente las columans que conforman el dataframe y un top de 5 registros"
   ]
  },
  {
   "cell_type": "code",
   "execution_count": null,
   "metadata": {},
   "outputs": [],
   "source": [
    "ch_df.head()"
   ]
  },
  {
   "cell_type": "markdown",
   "metadata": {},
   "source": [
    "### Metodo describe\n",
    "\n",
    "Nos mostrar estadísticas interesantes sobre un DataFrame\n",
    "    1. count: Cantidad de datos en la columna\n",
    "    2. mean: Muestra la media del set de datos\n",
    "    3. std: Muestra la desviacion estandart del set de datos\n",
    "    4. min: Muestra el minimo del set de datos\n",
    "    5. 25%: Muestra el percentil al 25% del set de datos.\n",
    "    6. 50%: Muestra el percentil al 50% del set de datos.\n",
    "    7. 75%: Muestra el percentil al 75% del set de datos.\n",
    "    8. max: Muestra el maximo del set de datos\n",
    "\n"
   ]
  },
  {
   "cell_type": "code",
   "execution_count": null,
   "metadata": {},
   "outputs": [],
   "source": [
    "ch_df.describe()"
   ]
  },
  {
   "cell_type": "markdown",
   "metadata": {},
   "source": [
    "### Acceder a una columan en particular"
   ]
  },
  {
   "cell_type": "code",
   "execution_count": null,
   "metadata": {},
   "outputs": [],
   "source": [
    "ch_df['median_income'].head()"
   ]
  },
  {
   "cell_type": "markdown",
   "metadata": {},
   "source": [
    "### Graficacion: Generar un histograma de una columna del DataFrame"
   ]
  },
  {
   "cell_type": "code",
   "execution_count": null,
   "metadata": {},
   "outputs": [],
   "source": [
    "ch_df.hist('median_income')"
   ]
  },
  {
   "cell_type": "markdown",
   "metadata": {},
   "source": [
    "### Acceder al dato de una celda en particular de una columna"
   ]
  },
  {
   "cell_type": "code",
   "execution_count": null,
   "metadata": {},
   "outputs": [],
   "source": [
    "ch_df['median_income'][1]"
   ]
  },
  {
   "cell_type": "markdown",
   "metadata": {},
   "source": [
    "### Metodo describe()  de una columna en particular"
   ]
  },
  {
   "cell_type": "code",
   "execution_count": null,
   "metadata": {},
   "outputs": [],
   "source": [
    "ch_df['median_income'].describe()"
   ]
  },
  {
   "cell_type": "markdown",
   "metadata": {},
   "source": [
    "### Aplicar operacion a toda una columna"
   ]
  },
  {
   "cell_type": "code",
   "execution_count": null,
   "metadata": {},
   "outputs": [],
   "source": [
    "ch_df['median_income'] = ch_df['median_income']/10\n",
    "ch_df['median_income'].describe()"
   ]
  }
 ],
 "metadata": {
  "kernelspec": {
   "display_name": "Python 3",
   "language": "python",
   "name": "python3"
  },
  "language_info": {
   "codemirror_mode": {
    "name": "ipython",
    "version": 3
   },
   "file_extension": ".py",
   "mimetype": "text/x-python",
   "name": "python",
   "nbconvert_exporter": "python",
   "pygments_lexer": "ipython3",
   "version": "3.5.2"
  }
 },
 "nbformat": 4,
 "nbformat_minor": 2
}
