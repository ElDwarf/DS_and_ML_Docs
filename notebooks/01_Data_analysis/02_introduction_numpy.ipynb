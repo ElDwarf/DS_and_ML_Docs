{
 "cells": [
  {
   "cell_type": "markdown",
   "metadata": {},
   "source": [
    "# 02 Introducción a Numpy\n",
    "\n",
    "[Numpy](http://www.numpy.org/) es un paquete de python muy usando en  computación científica conteniendo entre otras cosas herammientas para:\n",
    "    1. Manejo de Array N-dimensional.\n",
    "    2. Algrebra lineal, Transformadas de Fourrier."
   ]
  },
  {
   "cell_type": "markdown",
   "metadata": {},
   "source": [
    "### Imporatamos Numpy"
   ]
  },
  {
   "cell_type": "code",
   "execution_count": 1,
   "metadata": {},
   "outputs": [],
   "source": [
    "import numpy as np"
   ]
  },
  {
   "cell_type": "markdown",
   "metadata": {},
   "source": [
    "### Creamos un arrar de dimension 1"
   ]
  },
  {
   "cell_type": "code",
   "execution_count": null,
   "metadata": {},
   "outputs": [],
   "source": [
    "x = np.array([1, 2, 3, 4, 5, 6, 7, 8, 9])\n",
    "x"
   ]
  },
  {
   "cell_type": "markdown",
   "metadata": {},
   "source": [
    "### Creamos un arrar de dimension 3"
   ]
  },
  {
   "cell_type": "code",
   "execution_count": null,
   "metadata": {},
   "outputs": [],
   "source": [
    "y = np.array([(1, 2, 3), (4, 5, 6), (7, 8, 9)])\n",
    "y"
   ]
  },
  {
   "cell_type": "markdown",
   "metadata": {},
   "source": [
    "### Generamos un array con objetos del 0 al 9"
   ]
  },
  {
   "cell_type": "code",
   "execution_count": null,
   "metadata": {},
   "outputs": [],
   "source": [
    "x = np.arange(10)\n",
    "x"
   ]
  },
  {
   "cell_type": "markdown",
   "metadata": {},
   "source": [
    "### Objeteniendo informacion del Array\n",
    "\n",
    "Vamos a mostrar como obtener las siguiente informacion de los array:\n",
    "    1. Dimensiones (Filas,Columnas)\n",
    "    2. Largo de Arrays\n",
    "    3. Numero de dimensiones de Array\n",
    "    4. Cantidad de Elementos de Array\n",
    "    5. Tipo de Datos"
   ]
  },
  {
   "cell_type": "code",
   "execution_count": null,
   "metadata": {},
   "outputs": [],
   "source": [
    "# Dimensiones\n",
    "dimensions = y.shape\n",
    "print('Dimension del array: {0}'.format(dimensions))\n",
    "\n",
    "# Largo del array\n",
    "length = len(y)\n",
    "print('Largo del array: {0}'.format(length))\n",
    "\n",
    "# Dimension del array\n",
    "dimension_array = y.ndim\n",
    "print('Dimension del array: {0}'.format(dimension_array))\n",
    "\n",
    "# Cantidad de elementos del array\n",
    "element_number = y.size\n",
    "print('Cantidad de elementos del array: {0}'.format(element_number))\n",
    "\n",
    "# Tipo de datos del array\n",
    "array_dtype = y.dtype\n",
    "print('Tipo de datos del array: {0}'.format(array_dtype))"
   ]
  },
  {
   "cell_type": "markdown",
   "metadata": {},
   "source": [
    "### Ordenar Array"
   ]
  },
  {
   "cell_type": "code",
   "execution_count": null,
   "metadata": {},
   "outputs": [],
   "source": [
    "z = np.array([13, 16, 19, 14, 12, 15, 10, 18, 17, 11])\n",
    "z.sort()\n",
    "z"
   ]
  },
  {
   "cell_type": "markdown",
   "metadata": {},
   "source": [
    "### Agregar elementos a un array\n",
    "\n",
    "Esto no modifica el valor del array devuelve uno nuevo con el resultado"
   ]
  },
  {
   "cell_type": "code",
   "execution_count": null,
   "metadata": {},
   "outputs": [],
   "source": [
    "np.append(x, z)"
   ]
  },
  {
   "cell_type": "markdown",
   "metadata": {},
   "source": [
    "### Operataciones con array"
   ]
  },
  {
   "cell_type": "code",
   "execution_count": null,
   "metadata": {},
   "outputs": [],
   "source": [
    "print(\"x = {0}\".format(x))\n",
    "print(\"z = {0}\\n\".format(z))\n",
    "\n",
    "# Suma de array\n",
    "result = np.add(x, z)\n",
    "print('Resultado de la suma entre x, z: {0}'.format(result))\n",
    "\n",
    "# Multiplicacion de array\n",
    "result = np.multiply(x, z)\n",
    "print('Resultado de la multiplicacion entre x, z: {0}'.format(result))\n",
    "\n",
    "# Producto puntio\n",
    "result = np.dot(x, z)\n",
    "print('Resultado del producto punto entre x, z: {0}'.format(result))"
   ]
  }
 ],
 "metadata": {
  "kernelspec": {
   "display_name": "Python 3",
   "language": "python",
   "name": "python3"
  },
  "language_info": {
   "codemirror_mode": {
    "name": "ipython",
    "version": 3
   },
   "file_extension": ".py",
   "mimetype": "text/x-python",
   "name": "python",
   "nbconvert_exporter": "python",
   "pygments_lexer": "ipython3",
   "version": "3.5.2"
  }
 },
 "nbformat": 4,
 "nbformat_minor": 2
}
