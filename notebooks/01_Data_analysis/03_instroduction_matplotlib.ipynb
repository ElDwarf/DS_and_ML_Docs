{
 "cells": [
  {
   "cell_type": "markdown",
   "metadata": {},
   "source": [
    "# 03 Introducción a Matplotlib\n",
    "\n",
    "[Matplotlib](https://matplotlib.org/) es un paquete de python que permite realizar graficos 2d, y 3d, entre otras cosas."
   ]
  },
  {
   "cell_type": "markdown",
   "metadata": {},
   "source": [
    "### Imporatamos Matplotlib"
   ]
  },
  {
   "cell_type": "code",
   "execution_count": null,
   "metadata": {},
   "outputs": [],
   "source": [
    "# Declaracion permite que el grafico generado aparesca en el notebooks\n",
    "%matplotlib inline\n",
    "\n",
    "import matplotlib.pyplot as plt"
   ]
  },
  {
   "cell_type": "markdown",
   "metadata": {},
   "source": [
    "### Creando el primer grafico. 2D"
   ]
  },
  {
   "cell_type": "code",
   "execution_count": null,
   "metadata": {},
   "outputs": [],
   "source": [
    "# Creaos un array con 11 elementos empezando en -10 o sea que hacemos del -10 al 10 para x.\n",
    "x = range(-10, 11)\n",
    "\n",
    "# Creamos al array y con los cuadrados de los valores de x.\n",
    "y = [z**2 for z in x]\n",
    "\n",
    "# Definimos que arrays vamos a graficar.\n",
    "plt.plot(x, y)\n",
    "\n",
    "# Definilos los label del eje x,y.\n",
    "plt.xlabel('Tiempo')\n",
    "plt.ylabel('Cantidades')\n",
    "\n",
    "# Generamos el grafico.\n",
    "plt.show()"
   ]
  },
  {
   "cell_type": "markdown",
   "metadata": {},
   "source": [
    "### Creamos un histograma\n",
    "\n",
    "Como vimos antes panda nos permite cargados desde un csv hosteado en la red, vamos a cargar panda para imporatar los datos que usaremos para hacer el histograma"
   ]
  },
  {
   "cell_type": "code",
   "execution_count": null,
   "metadata": {},
   "outputs": [],
   "source": [
    "import pandas as pd\n",
    "\n",
    "ch_df = pd.read_csv(\"https://download.mlcc.google.com/mledu-datasets/california_housing_train.csv\", sep=\",\")"
   ]
  },
  {
   "cell_type": "code",
   "execution_count": null,
   "metadata": {},
   "outputs": [],
   "source": [
    "# Cargamos la columna median_income como variable y a graficar.\n",
    "y = ch_df['median_income']\n",
    "\n",
    "# Definimos la cantidad de conjuntos que queremos usar para agrupar los valores.\n",
    "num_bins = 20\n",
    "\n",
    "# Le definimos a Matplotlib que es un histograma con los valores de y agrupados en num_bis\n",
    "plt.hist(y, num_bins)\n",
    "\n",
    "# Asignamos Nombres a eje x, y asi como tambien el titulo del grafico\n",
    "plt.xlabel('Ingreso Medio')\n",
    "plt.ylabel('Cantidad de registros')\n",
    "plt.title(r'Histogram del ingreso medio')\n",
    "\n",
    "plt.show()"
   ]
  },
  {
   "cell_type": "markdown",
   "metadata": {},
   "source": [
    "### Graficando archivos de images\n",
    "\n",
    "Matplotlib tambien permite mostrar images dentro de sus plot, los cuales por merdio de subplot podemos combinar con graficos sobre estas images, por ahora solo camos a cargar una imagen en el plot."
   ]
  },
  {
   "cell_type": "code",
   "execution_count": null,
   "metadata": {},
   "outputs": [],
   "source": [
    "# Importamos cbook para poder traer un ejemplo de imagen solamente.\n",
    "import matplotlib.cbook as cbook\n",
    "\n",
    "# Cargamos la el archivo de imagen en la variable imagen\n",
    "with cbook.get_sample_data('ada.png') as image_file:\n",
    "    image = plt.imread(image_file)\n",
    "\n",
    "# Definimos que imagen vamos a graficar\n",
    "plt.imshow(image)\n",
    "\n",
    "# Desactivamos la graficacion de los ejes, esto es opcional.\n",
    "plt.axis('off')\n",
    "\n",
    "# Generamos el grafico.\n",
    "plt.show()"
   ]
  },
  {
   "cell_type": "markdown",
   "metadata": {},
   "source": [
    "### Graficamos Superficies en 3D."
   ]
  },
  {
   "cell_type": "code",
   "execution_count": null,
   "metadata": {},
   "outputs": [],
   "source": [
    "# Importamos Axes3D lo que nos va a permitir graficar en 3D\n",
    "from mpl_toolkits.mplot3d import Axes3D\n",
    "from matplotlib import cm\n",
    "#from matplotlib.ticker import LinearLocator, FormatStrFormatter\n",
    "\n",
    "# Importamos numpy para perar los datos\n",
    "import numpy as np\n",
    "\n",
    "# Creamos los datos a graficar\n",
    "X = np.arange(-5, 5, 0.25)\n",
    "Y = np.arange(-5, 5, 0.25)\n",
    "X, Y = np.meshgrid(X, Y)\n",
    "R = np.sqrt(X**2 + Y**2)\n",
    "Z = np.sin(R)\n",
    "\n",
    "# Preparamos Figure para graficar la superficie.\n",
    "fig = plt.figure()\n",
    "ax = fig.gca(projection='3d')\n",
    "\n",
    "# Definimos plotear X, Y y Z como superficie.\n",
    "surf = ax.plot_surface(X, Y, Z, cmap=cm.coolwarm,\n",
    "                       linewidth=0, antialiased=False)\n",
    "\n",
    "#Agregamos referencia grafica de los valores Opcional.\n",
    "fig.colorbar(surf, shrink=0.5, aspect=5)\n",
    "\n",
    "# Generamos el grafico.\n",
    "plt.show()"
   ]
  },
  {
   "cell_type": "markdown",
   "metadata": {},
   "source": [
    "### Multiples graficos juntos\n",
    "\n",
    "en este caso vamos a realizar 4 graficos simples en el mismo plot."
   ]
  },
  {
   "cell_type": "code",
   "execution_count": null,
   "metadata": {},
   "outputs": [],
   "source": [
    "# Importamos numpy para generar datos de ejemplo solamente\n",
    "import numpy as np\n",
    "\n",
    "# Generamos los datos de prueba.\n",
    "np.random.seed(19680801)\n",
    "data = np.random.randn(2, 100)\n",
    "\n",
    "# Creamos un subplot de 2 columnas con 2 filas cada una \n",
    "fig, axs = plt.subplots(2, 2, figsize=(5, 5))\n",
    "\n",
    "# Agregamos un grafico de histograma en la posicion 0, 0\n",
    "axs[0, 0].hist(data[0])\n",
    "\n",
    "# Agregamos un grafico de puntos en la posicion 1, 0\n",
    "axs[1, 0].scatter(data[0], data[1])\n",
    "\n",
    "# Agregamos un grafico de lineas en la posicion 0, 1\n",
    "axs[0, 1].plot(data[0], data[1])\n",
    "\n",
    "# Agregamos un grafico de histograma 2d en la posicion 1, 1\n",
    "axs[1, 1].hist2d(data[0], data[1])\n",
    "\n",
    "# Generamos el grafico.\n",
    "plt.show()"
   ]
  }
 ],
 "metadata": {
  "kernelspec": {
   "display_name": "Python 3",
   "language": "python",
   "name": "python3"
  },
  "language_info": {
   "codemirror_mode": {
    "name": "ipython",
    "version": 3
   },
   "file_extension": ".py",
   "mimetype": "text/x-python",
   "name": "python",
   "nbconvert_exporter": "python",
   "pygments_lexer": "ipython3",
   "version": "3.5.2"
  }
 },
 "nbformat": 4,
 "nbformat_minor": 2
}
