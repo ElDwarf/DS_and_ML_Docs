{
 "cells": [
  {
   "cell_type": "markdown",
   "metadata": {},
   "source": [
    "# Contenido\n",
    "\n",
    "Este Notebook esta pensando para ayudarlos a aprender y practicar cosas como: uso de Notebooks, Herramientas de Machine learning, data science, etc.\n",
    "\n",
    "## Uso de Notebooks\n",
    "\n",
    " - [00 Introduccion Notebook](00_Introduction/00_Introduccion_Notebook.ipynb)"
   ]
  }
 ],
 "metadata": {
  "kernelspec": {
   "display_name": "Python 3",
   "language": "python",
   "name": "python3"
  },
  "language_info": {
   "codemirror_mode": {
    "name": "ipython",
    "version": 3
   },
   "file_extension": ".py",
   "mimetype": "text/x-python",
   "name": "python",
   "nbconvert_exporter": "python",
   "pygments_lexer": "ipython3",
   "version": "3.5.2"
  }
 },
 "nbformat": 4,
 "nbformat_minor": 2
}
