{
 "cells": [
  {
   "cell_type": "markdown",
   "metadata": {},
   "source": [
    "# 00 Introduccion a notebook\n",
    "\n",
    "Este notebook esta pensado como introduccion al uso de notebooks a fin de poder aprender la dinamica, logica y potencial de los notebooks (INotebooks, Jupyter Notebooks, Goolge Colab, etc)."
   ]
  },
  {
   "cell_type": "markdown",
   "metadata": {},
   "source": [
    "## Explicacion.\n",
    "\n",
    "Los notebooks son archivos .ipynb que son cargados y procesados por algun motor como por ejemplo Jupyter, Colab, etc.\n",
    "\n",
    "Permiten incorporar texto, imagenes, codigo que luego puede ser ejecutado desde el mismo notebook. por ejemplo que que se encuentra a continuacion.\n",
    "\n",
    "Para ejecutarlo tiene que hacer click en el boton de Play o simplemente precionar ```[SHIT] + [ENTER]```\n"
   ]
  },
  {
   "cell_type": "code",
   "execution_count": 3,
   "metadata": {},
   "outputs": [
    {
     "name": "stdout",
     "output_type": "stream",
     "text": [
      "3\n"
     ]
    }
   ],
   "source": [
    "a = 1\n",
    "b = 2\n",
    "\n",
    "print(a + b)"
   ]
  },
  {
   "cell_type": "markdown",
   "metadata": {},
   "source": [
    "## Edicion/Modificacion\n",
    "\n",
    "Los notebooks estan compuesto por celdas que pueden ser de tipo texto(Formato Marckdown) o codigo (En estos notebooks usaremos Python como lenguaje de programacion). Las celdas se pueden editar simplemente haciendo doble click o presionando ```[ENTER]```.\n",
    "\n",
    "Pruebe escribir codigo Python en la celda siguiente y ejecutarla.\n",
    "\n",
    "*Ejemplo de codigo:*\n",
    "```\n",
    "def hello_world(name):\n",
    "    print(\"Hello {0}\".format(name))\n",
    "\n",
    "hello_world('Pablo')\n",
    "```"
   ]
  },
  {
   "cell_type": "code",
   "execution_count": 6,
   "metadata": {},
   "outputs": [],
   "source": [
    "# Escriba su codigo aqui."
   ]
  },
  {
   "cell_type": "markdown",
   "metadata": {},
   "source": []
  },
  {
   "cell_type": "markdown",
   "metadata": {},
   "source": [
    "## Importando Librerias\n",
    "\n",
    "Estos notebooks permiten importar librerias(En este caso Python) que tengamos instaladas en la maquina que esta ejecutando el notebook de la misma forma que hacemos en script comun."
   ]
  }
 ],
 "metadata": {
  "kernelspec": {
   "display_name": "Python 3",
   "language": "python",
   "name": "python3"
  },
  "language_info": {
   "codemirror_mode": {
    "name": "ipython",
    "version": 3
   },
   "file_extension": ".py",
   "mimetype": "text/x-python",
   "name": "python",
   "nbconvert_exporter": "python",
   "pygments_lexer": "ipython3",
   "version": "3.5.2"
  }
 },
 "nbformat": 4,
 "nbformat_minor": 2
}
