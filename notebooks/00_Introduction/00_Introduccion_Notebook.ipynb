{
 "cells": [
  {
   "cell_type": "markdown",
   "metadata": {},
   "source": [
    "# 00 Introduccion a notebook\n",
    "\n",
    "Este notebook esta pensado como introduccion al uso de notebooks a fin de poder aprender la dinamica, logica y potencial de los notebooks (INotebooks, Jupyter Notebooks, Goolge Colab, etc).\n",
    "\n",
    "Los Notebooks son muy utilizados en el area de **Data science y Machine Learning**, por lo que es importante saber usarlos para poder avanzar con el aprendisaje de esto mismo.\n",
    "\n",
    "En estos notebooks usaremos python para ejecutar codigos."
   ]
  },
  {
   "cell_type": "markdown",
   "metadata": {},
   "source": [
    "## Explicacion.\n",
    "\n",
    "Los notebooks son archivos .ipynb que son cargados y procesados por algun motor como por ejemplo Jupyter, Colab, etc.\n",
    "\n",
    "Permiten incorporar texto, imagenes, codigo que luego puede ser ejecutado desde el mismo notebook. por ejemplo que que se encuentra a continuacion.\n",
    "\n",
    "Para ejecutarlo tiene que hacer click en el boton de Play o simplemente precionar ```[SHIT] + [ENTER]```\n"
   ]
  },
  {
   "cell_type": "code",
   "execution_count": 7,
   "metadata": {},
   "outputs": [
    {
     "name": "stdout",
     "output_type": "stream",
     "text": [
      "3\n"
     ]
    }
   ],
   "source": [
    "a = 1\n",
    "b = 2\n",
    "\n",
    "print(a + b)"
   ]
  },
  {
   "cell_type": "markdown",
   "metadata": {},
   "source": [
    "## Edicion/Modificacion\n",
    "\n",
    "Los notebooks estan compuesto por celdas que pueden ser de tipo texto(Formato Marckdown) o codigo (En estos notebooks usaremos Python como lenguaje de programacion). Las celdas se pueden editar simplemente haciendo doble click o presionando ```[ENTER]```.\n",
    "\n",
    "Pruebe escribir codigo Python en la celda siguiente y ejecutarla.\n",
    "\n",
    "**Ejemplo de codigo:**\n",
    "```\n",
    "def hello_world(name):\n",
    "    print(\"Hello {0}\".format(name))\n",
    "\n",
    "hello_world('Pablo')\n",
    "```"
   ]
  },
  {
   "cell_type": "code",
   "execution_count": 8,
   "metadata": {},
   "outputs": [],
   "source": [
    "# Escriba su codigo aqui."
   ]
  },
  {
   "cell_type": "markdown",
   "metadata": {},
   "source": [
    "## Contexto \n",
    "\n",
    "Los notebooks funcionan de forma similar al interprete de python, por ende todo lo que vayamos ejecutando va cargandose al contecto dejandolo disponible para usar en celdas siguientes.\n",
    "\n",
    "A continuacion vamos a tener 2 celdas de codigos separadas.\n",
    "    - La primera con una funcion.\n",
    "    - La segunda va a llamar a la celda a la funcion de la celda anterior para verificar el funcionamiento del contexto.\n",
    "\n",
    "*_Nota:_* tener en cunta que cuando necesitemos usar cosas que se declaran en celdas enteriores primero tenemos que ejecutar estas celdas para luego poder tenerlas disponibles."
   ]
  },
  {
   "cell_type": "code",
   "execution_count": 13,
   "metadata": {},
   "outputs": [],
   "source": [
    "#Funcion que permite calcular el Cuadrado de un numero.\n",
    "def square(number):\n",
    "    return number*number"
   ]
  },
  {
   "cell_type": "code",
   "execution_count": 14,
   "metadata": {},
   "outputs": [
    {
     "data": {
      "text/plain": [
       "9"
      ]
     },
     "execution_count": 14,
     "metadata": {},
     "output_type": "execute_result"
    }
   ],
   "source": [
    "#Llamamos a la funcion creada en la celda anterior.\n",
    "square(3)"
   ]
  },
  {
   "cell_type": "markdown",
   "metadata": {},
   "source": [
    "## Importando Librerias\n",
    "\n",
    "Estos notebooks permiten importar librerias(En este caso Python) que tengamos instaladas en la maquina que esta ejecutando el notebook de la misma forma que hacemos en script comun."
   ]
  },
  {
   "cell_type": "code",
   "execution_count": 18,
   "metadata": {},
   "outputs": [],
   "source": [
    "#importamos random\n",
    "import random"
   ]
  },
  {
   "cell_type": "code",
   "execution_count": 19,
   "metadata": {},
   "outputs": [
    {
     "name": "stdout",
     "output_type": "stream",
     "text": [
      "2\n"
     ]
    }
   ],
   "source": [
    "#Llamamos a random previamente importado\n",
    "print(random.randint(0,10))"
   ]
  },
  {
   "cell_type": "markdown",
   "metadata": {},
   "source": [
    "## Instalacion de librerias por medio de PIP (Ejecucion)\n",
    "\n",
    "Para instalar librerias en un notebook se utiliza una sintaxis especial la cual permite ejecutar comandos extenos a python como ser [PIP](https://pypi.org/project/pip/), la sintaxis para pip es la sigiente\n",
    "\n",
    "```!pip install atom```\n",
    "\n",
    "__Nota:__ En este caso usamos [atom](https://pypi.org/project/atom/) solo como ejemplo"
   ]
  },
  {
   "cell_type": "code",
   "execution_count": 21,
   "metadata": {},
   "outputs": [
    {
     "name": "stdout",
     "output_type": "stream",
     "text": [
      "Collecting atom\n",
      "\u001b[?25l  Downloading https://files.pythonhosted.org/packages/08/e4/00636862a7f275e6c936229ee3b27d06bdd27eddeb105bb5a6cda0f343e5/atom-0.4.3-cp35-cp35m-manylinux1_x86_64.whl (132kB)\n",
      "\u001b[K    100% |████████████████████████████████| 133kB 1.7MB/s ta 0:00:01\n",
      "\u001b[?25hRequirement already satisfied: setuptools in /usr/local/lib/python3.5/dist-packages (from atom) (40.8.0)\n",
      "Installing collected packages: atom\n",
      "Successfully installed atom-0.4.3\n"
     ]
    }
   ],
   "source": [
    "# Instalamos atom\n",
    "!pip install atom"
   ]
  },
  {
   "cell_type": "code",
   "execution_count": 27,
   "metadata": {},
   "outputs": [],
   "source": [
    "# importamos atom para verificar que se instalo correctamente\n",
    "\n",
    "from atom.api import Atom"
   ]
  },
  {
   "cell_type": "markdown",
   "metadata": {},
   "source": [
    "## Momento de probar y aprender\n",
    "\n",
    "Luego de esta rapida intruduccion les propongo que escriban un poco de codigo en este notebook para aprender un poco mas"
   ]
  },
  {
   "cell_type": "code",
   "execution_count": 28,
   "metadata": {},
   "outputs": [],
   "source": [
    "# Practiquen con su propio codigo aca."
   ]
  }
 ],
 "metadata": {
  "kernelspec": {
   "display_name": "Python 3",
   "language": "python",
   "name": "python3"
  },
  "language_info": {
   "codemirror_mode": {
    "name": "ipython",
    "version": 3
   },
   "file_extension": ".py",
   "mimetype": "text/x-python",
   "name": "python",
   "nbconvert_exporter": "python",
   "pygments_lexer": "ipython3",
   "version": "3.5.2"
  }
 },
 "nbformat": 4,
 "nbformat_minor": 2
}
